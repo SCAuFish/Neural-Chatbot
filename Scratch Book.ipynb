{
 "cells": [
  {
   "cell_type": "markdown",
   "metadata": {},
   "source": [
    "# Scratch book to try out different functions"
   ]
  },
  {
   "cell_type": "markdown",
   "metadata": {},
   "source": [
    "## Read lines in move_lines to build a dict of lines"
   ]
  },
  {
   "cell_type": "code",
   "execution_count": 1,
   "metadata": {},
   "outputs": [],
   "source": [
    "from data import TextReader"
   ]
  },
  {
   "cell_type": "code",
   "execution_count": 2,
   "metadata": {},
   "outputs": [],
   "source": [
    "file_name = \"./Data/cornell_data/movie_lines.txt\"\n",
    "reader = TextReader()\n",
    "reader.read_line_dict(file_name)"
   ]
  },
  {
   "cell_type": "code",
   "execution_count": 3,
   "metadata": {},
   "outputs": [
    {
     "name": "stdout",
     "output_type": "stream",
     "text": [
      "They do not!\n"
     ]
    }
   ],
   "source": [
    "# The first line stored in movie_lines.txt\n",
    "print(reader.lines[1045])"
   ]
  },
  {
   "cell_type": "markdown",
   "metadata": {},
   "source": [
    "## Read dialogues"
   ]
  },
  {
   "cell_type": "code",
   "execution_count": 4,
   "metadata": {},
   "outputs": [
    {
     "name": "stdout",
     "output_type": "stream",
     "text": [
      "['L194', 'L195', 'L196', 'L197']\n"
     ]
    }
   ],
   "source": [
    "input_file = open(\"./Data/cornell_data/movie_conversations.txt\", \"rb\")\n",
    "line = input_file.readline()\n",
    "\n",
    "parts    = line.strip().split(b\" +++$+++ \")\n",
    "dialogue = parts[-1]\n",
    "\n",
    "print(dialogue)"
   ]
  },
  {
   "cell_type": "code",
   "execution_count": 14,
   "metadata": {},
   "outputs": [
    {
     "name": "stdout",
     "output_type": "stream",
     "text": [
      "L194\n",
      "L195\n",
      "L196\n",
      "L197\n"
     ]
    }
   ],
   "source": [
    "sentences = dialogue.split(',')\n",
    "import re\n",
    "for s in sentences:\n",
    "    s = re.sub(r'[^\\w\\s]','',s).strip()\n",
    "    print(s)"
   ]
  },
  {
   "cell_type": "code",
   "execution_count": null,
   "metadata": {},
   "outputs": [],
   "source": [
    "a= [1,2,3]\n"
   ]
  }
 ],
 "metadata": {
  "kernelspec": {
   "display_name": "Python 3",
   "language": "python",
   "name": "python3"
  },
  "language_info": {
   "codemirror_mode": {
    "name": "ipython",
    "version": 2
   },
   "file_extension": ".py",
   "mimetype": "text/x-python",
   "name": "python",
   "nbconvert_exporter": "python",
   "pygments_lexer": "ipython2",
   "version": "2.7.15rc1"
  }
 },
 "nbformat": 4,
 "nbformat_minor": 2
}
