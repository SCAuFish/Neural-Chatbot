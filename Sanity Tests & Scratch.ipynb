{
 "cells": [
  {
   "cell_type": "markdown",
   "metadata": {},
   "source": [
    "# Scratch book to try out different functions"
   ]
  },
  {
   "cell_type": "markdown",
   "metadata": {},
   "source": [
    "## 1. Read lines in move_lines to build a dict of lines"
   ]
  },
  {
   "cell_type": "code",
   "execution_count": null,
   "metadata": {},
   "outputs": [],
   "source": [
    "from data import TextReader"
   ]
  },
  {
   "cell_type": "code",
   "execution_count": null,
   "metadata": {},
   "outputs": [],
   "source": [
    "file_name = \"./Data/cornell_data/movie_lines.txt\"\n",
    "reader = TextReader()\n",
    "reader.read_line_dict(file_name)"
   ]
  },
  {
   "cell_type": "code",
   "execution_count": null,
   "metadata": {},
   "outputs": [],
   "source": [
    "# The first line stored in movie_lines.txt\n",
    "print(reader.lines[1045])"
   ]
  },
  {
   "cell_type": "markdown",
   "metadata": {},
   "source": [
    "## 2. Get vocabulary"
   ]
  },
  {
   "cell_type": "code",
   "execution_count": null,
   "metadata": {},
   "outputs": [],
   "source": [
    "from collections import defaultdict\n",
    "vocab = defaultdict(int)\n",
    "for index in reader.lines.keys():\n",
    "    line = reader.lines[index]\n",
    "    words = line.split()\n",
    "    for word in words:\n",
    "        vocab[word] += 1\n",
    "\n",
    "print(len(vocab))\n",
    "print(vocab[b'They'])"
   ]
  },
  {
   "cell_type": "markdown",
   "metadata": {},
   "source": [
    "## 3. Read dialogues"
   ]
  },
  {
   "cell_type": "code",
   "execution_count": null,
   "metadata": {},
   "outputs": [],
   "source": [
    "# Default file path is movie_conversations\n",
    "reader.read_dialogues()\n",
    "print(reader.dialogues[0])"
   ]
  },
  {
   "cell_type": "markdown",
   "metadata": {},
   "source": [
    "## 4. Sanity Test on Word2Vec Prep"
   ]
  },
  {
   "cell_type": "code",
   "execution_count": 1,
   "metadata": {},
   "outputs": [],
   "source": [
    "from data import TextReader\n",
    "from word2vec import word2vec"
   ]
  },
  {
   "cell_type": "code",
   "execution_count": 2,
   "metadata": {},
   "outputs": [],
   "source": [
    "# Sanity test on training\n",
    "reader = TextReader()\n",
    "reader.read_line_dict(\"./Data/cornell_data/shortened_lines.txt\")\n",
    "\n",
    "word_model = word2vec()\n",
    "word_model.add_whole_corpus(reader)\n",
    "word_model.generate_indices()"
   ]
  },
  {
   "cell_type": "code",
   "execution_count": 3,
   "metadata": {
    "scrolled": true
   },
   "outputs": [
    {
     "name": "stdout",
     "output_type": "stream",
     "text": [
      "Using CUDA\n",
      "tensor([[ 0.9038, -0.7748, -0.0192,  ..., -0.0161, -0.0893,  1.5906],\n",
      "        [ 0.9888,  0.4174,  0.7782,  ...,  0.1355, -1.5968,  0.1406],\n",
      "        [-2.4696,  0.8304, -1.4950,  ..., -1.0590, -0.2511, -0.4699],\n",
      "        ...,\n",
      "        [-2.1813, -2.3400, -0.6660,  ..., -0.2942, -1.7850,  0.0550],\n",
      "        [-0.1707,  0.7052, -0.6017,  ...,  0.7988,  1.2555, -0.0988],\n",
      "        [ 0.2714, -0.1710,  0.8437,  ...,  0.6347, -0.1756, -0.6639]],\n",
      "       device='cuda:1', requires_grad=True)\n",
      "Loss at epoch 0: 1748328.6261482239\n",
      "\n",
      "tensor([[ 0.9085, -0.7756, -0.0170,  ..., -0.0190, -0.0864,  1.5943],\n",
      "        [ 0.9917,  0.4179,  0.7759,  ...,  0.1315, -1.5954,  0.1442],\n",
      "        [-2.4729,  0.8313, -1.4895,  ..., -1.0571, -0.2579, -0.4756],\n",
      "        ...,\n",
      "        [-2.1727, -2.3417, -0.6655,  ..., -0.2912, -1.7836,  0.0551],\n",
      "        [-0.1634,  0.7059, -0.6009,  ...,  0.8007,  1.2522, -0.1005],\n",
      "        [ 0.2739, -0.1724,  0.8456,  ...,  0.6328, -0.1778, -0.6612]],\n",
      "       device='cuda:1', requires_grad=True)\n"
     ]
    }
   ],
   "source": [
    "word_model.train(reader, epochs=1)\n",
    "word_model.merge_embeddings()\n",
    "word_model.save_embedding(\"word_embedding\")"
   ]
  },
  {
   "cell_type": "code",
   "execution_count": 4,
   "metadata": {},
   "outputs": [],
   "source": [
    "word_model.load_embedding(\"word_embedding\")"
   ]
  }
 ],
 "metadata": {
  "kernelspec": {
   "display_name": "Python 3",
   "language": "python",
   "name": "python3"
  },
  "language_info": {
   "codemirror_mode": {
    "name": "ipython",
    "version": 3
   },
   "file_extension": ".py",
   "mimetype": "text/x-python",
   "name": "python",
   "nbconvert_exporter": "python",
   "pygments_lexer": "ipython3",
   "version": "3.6.7"
  }
 },
 "nbformat": 4,
 "nbformat_minor": 2
}
